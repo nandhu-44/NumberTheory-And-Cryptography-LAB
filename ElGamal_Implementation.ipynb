{
  "nbformat": 4,
  "nbformat_minor": 0,
  "metadata": {
    "colab": {
      "provenance": []
    },
    "kernelspec": {
      "name": "python3",
      "display_name": "Python 3"
    },
    "language_info": {
      "name": "python"
    }
  },
  "cells": [
    {
      "cell_type": "code",
      "source": [
        "import random\n",
        "from sympy import isprime, mod_inverse\n",
        "\n",
        "def generate_large_prime(bits):\n",
        "    \"\"\"Generate a large prime number.\"\"\"\n",
        "    while True:\n",
        "        prime_candidate = random.getrandbits(bits)\n",
        "        if isprime(prime_candidate):\n",
        "            return prime_candidate\n",
        "\n",
        "def primitive_root_generator(p):\n",
        "    \"\"\"Generate a primitive root modulo p.\"\"\"\n",
        "    while True:\n",
        "        g = random.randint(2, p - 2)\n",
        "        if pow(g, (p - 1) // 2, p) != 1:\n",
        "            return g\n",
        "\n",
        "def elgamal_key_generation(bits=128):\n",
        "    \"\"\"ElGamal Key Generation.\"\"\"\n",
        "    # Step 1: Select a large prime number p\n",
        "    p = generate_large_prime(bits)\n",
        "\n",
        "    # Step 2: Choose a secret integer d (1 ≤ d ≤ p - 2)\n",
        "    d = random.randint(1, p - 2)\n",
        "\n",
        "    # Step 3: Select e1, a primitive root modulo p\n",
        "    e1 = primitive_root_generator(p)\n",
        "\n",
        "    # Step 4: Compute e2 = e1^d mod p\n",
        "    e2 = pow(e1, d, p)\n",
        "\n",
        "    # Public Key: (e1, e2, p)\n",
        "    public_key = (e1, e2, p)\n",
        "\n",
        "    # Private Key: d\n",
        "    private_key = d\n",
        "\n",
        "    return public_key, private_key\n",
        "\n",
        "# Example usage\n",
        "public_key, private_key = elgamal_key_generation()\n",
        "\n",
        "print({\n",
        "    \"e1\": public_key[0],\n",
        "    \"e2\": public_key[1],\n",
        "    \"p\": public_key[2],\n",
        "    \"d\": private_key\n",
        "})\n",
        "print(\"Public Key:\", public_key)\n",
        "print(\"Private Key:\", private_key)"
      ],
      "metadata": {
        "colab": {
          "base_uri": "https://localhost:8080/"
        },
        "id": "fHrZzaFAxNrh",
        "outputId": "6b3c8391-82f3-44c4-fa56-f34a8cbaf563"
      },
      "execution_count": 37,
      "outputs": [
        {
          "output_type": "stream",
          "name": "stdout",
          "text": [
            "{'e1': 55076296596830904199741903398955120404, 'e2': 106373456543642511198487400642046542696, 'p': 288634617432859657795895109735198534577, 'd': 72546442531488452052137253222119926088}\n",
            "Public Key: (55076296596830904199741903398955120404, 106373456543642511198487400642046542696, 288634617432859657795895109735198534577)\n",
            "Private Key: 72546442531488452052137253222119926088\n"
          ]
        }
      ]
    },
    {
      "cell_type": "code",
      "source": [
        "# To check if plaintext is non-integer type\n",
        "IS_STRING = False\n",
        "\n",
        "def elgamal_encryption(public_key, plaintext):\n",
        "    \"\"\"ElGamal Encryption.\"\"\"\n",
        "    global IS_STRING\n",
        "    e1, e2, p = public_key\n",
        "\n",
        "    # Step 1: Select a random integer r in [1, p - 2]\n",
        "    r = random.randint(1, p - 2)\n",
        "\n",
        "    # Step 2: Compute C1 = e1^r mod p\n",
        "    C1 = pow(e1, r, p)\n",
        "\n",
        "    # Optional step to convert string to integer\n",
        "    if not plaintext.isdigit():\n",
        "        IS_STRING = True\n",
        "        plaintext = int.from_bytes(plaintext.encode(), 'big')\n",
        "\n",
        "    # Step 3: Compute C2 = (P * e2^r) mod p\n",
        "    C2 = (plaintext * pow(e2, r, p)) % p\n",
        "\n",
        "    # Return ciphertext (C1, C2)\n",
        "    return (C1, C2)\n",
        "\n",
        "# Usage\n",
        "plaintext = input(\"Enter the plaintext to encrypt: \")\n",
        "ciphertext = elgamal_encryption(public_key, plaintext)\n",
        "print({\n",
        "    \"C1\": ciphertext[0],\n",
        "    \"C2\": ciphertext[1],\n",
        "    \"IS_STRING\": IS_STRING\n",
        "})\n",
        "print(\"Ciphertext:\", ciphertext)"
      ],
      "metadata": {
        "colab": {
          "base_uri": "https://localhost:8080/"
        },
        "id": "jzK_Ce9QxT_4",
        "outputId": "879189f6-9b35-43af-dc90-580721ed059a"
      },
      "execution_count": 40,
      "outputs": [
        {
          "output_type": "stream",
          "name": "stdout",
          "text": [
            "Enter the plaintext to encrypt: Hello World!\n",
            "{'C1': 166887197058045896588892203676713310171, 'C2': 35685365510596946089659527090488838350, 'IS_STRING': True}\n",
            "Ciphertext: (166887197058045896588892203676713310171, 35685365510596946089659527090488838350)\n"
          ]
        }
      ]
    },
    {
      "cell_type": "code",
      "source": [
        "def elgamal_decryption(private_key, public_key, ciphertext):\n",
        "    \"\"\"ElGamal Decryption.\"\"\"\n",
        "    d = private_key\n",
        "    e1, e2, p = public_key\n",
        "    C1, C2 = ciphertext\n",
        "\n",
        "    # Step 1: Compute C1^d mod p\n",
        "    C1_d = pow(C1, d, p)\n",
        "\n",
        "    # Step 2: Compute the inverse of C1^d mod p\n",
        "    C1_d_inverse = mod_inverse(C1_d, p)\n",
        "\n",
        "    # Step 3: Calculate plaintext P = (C2 * (C1^d)^-1) mod p\n",
        "    plaintext = (C2 * C1_d_inverse) % p\n",
        "\n",
        "    return plaintext\n",
        "\n",
        "# Usage\n",
        "decrypted_plaintext = elgamal_decryption(private_key, public_key, ciphertext)\n",
        "if IS_STRING:\n",
        "    decrypted_plaintext = decrypted_plaintext.to_bytes((decrypted_plaintext.bit_length() + 7) // 8, 'big').decode()\n",
        "\n",
        "print(f\"Decrypted plaintext: {decrypted_plaintext}\")"
      ],
      "metadata": {
        "colab": {
          "base_uri": "https://localhost:8080/"
        },
        "id": "YJIP2rqZxWkp",
        "outputId": "1f61c609-5411-4282-d364-f9f6bed1940e"
      },
      "execution_count": 42,
      "outputs": [
        {
          "output_type": "stream",
          "name": "stdout",
          "text": [
            "Decrypted plaintext: Hello World!\n"
          ]
        }
      ]
    }
  ]
}